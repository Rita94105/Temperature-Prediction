{
 "cells": [
  {
   "cell_type": "markdown",
   "id": "480ac63b",
   "metadata": {},
   "source": [
    "# Lab 1-1"
   ]
  },
  {
   "cell_type": "code",
   "execution_count": 3,
   "id": "03e2fbb3",
   "metadata": {},
   "outputs": [
    {
     "name": "stdout",
     "output_type": "stream",
     "text": [
      "theta = [[32. ]\n",
      " [ 1.8]]\n",
      "MSE train:0.000\n"
     ]
    },
    {
     "data": {
      "image/png": "[encoded data removed]",
      "text/plain": [
       "<Figure size 640x480 with 1 Axes>"
      ]
     },
     "metadata": {},
     "output_type": "display_data"
    }
   ],
   "source": [
    "import numpy as np \n",
    "import matplotlib.pyplot as plt \n",
    "from sklearn.metrics import mean_squared_error \n",
    "# data\n",
    "x = np.array( [2,7,10,13,15,20,30,40] ) \n",
    "y = np.array( [ [35.6], [44.6], [50.0], [55.4], [59.0],[68.0], [86.0], [104.0]]) \n",
    "yi= np.ones((len(y),1)) \n",
    "#formula\n",
    "n=2\n",
    "Phi = np.array( [x**i for i in range(n)] ).T\n",
    "theta = np.dot( np.dot( np.linalg.inv( np.dot( Phi.T, Phi ) ), Phi.T ), y ) # theta= (Phi.T*Phi)-1次方 *Phi.T*y\n",
    "print('theta =',theta ) \n",
    "#print(Phi)\n",
    "#print(Phi.T)\n",
    "#print(np.dot( Phi.T, Phi ))\n",
    "#print(np.linalg.inv( np.dot( Phi.T, Phi )  ))\n",
    "#print(y)\n",
    "#LOSS assessment\n",
    "xx = np.arange( x.min(), x.max(), ( x.max() - x.min() ) / 100.0 ) \n",
    "#print(xx)\n",
    "P = np.array( [xx**i for i in range(n) ] ) \n",
    "for a in range(len(y)): \n",
    " ya=(theta[1]*x[a]+theta[0]) \n",
    " yi[a]=ya \n",
    "print('MSE train:%.3f'%(mean_squared_error(y,yi))) \n",
    "#print(np.dot( P.T, theta ))\n",
    "#draw\n",
    "plt.scatter( x , y, color='green' ) \n",
    "plt.plot( xx, np.dot( P.T, theta ), color='blue', linewidth='3.0' ) \n",
    "plt.show()\n"
   ]
  },
  {
   "cell_type": "markdown",
   "id": "af8a22fc",
   "metadata": {},
   "source": [
    "# Lab 1-2"
   ]
  },
  {
   "cell_type": "markdown",
   "id": "3d7b2362",
   "metadata": {},
   "source": [
    "# Import Database"
   ]
  },
  {
   "cell_type": "code",
   "execution_count": 4,
   "id": "e97781da",
   "metadata": {
    "scrolled": true
   },
   "outputs": [],
   "source": [
    "import random\n",
    "from sklearn.model_selection import train_test_split\n",
    "from keras.layers import Dense, Dropout\n",
    "from keras.models import Sequential\n",
    "from sklearn.metrics import mean_squared_error\n",
    "from sklearn.preprocessing import MinMaxScaler\n",
    "import numpy as np"
   ]
  },
  {
   "cell_type": "markdown",
   "id": "4d5d0e80",
   "metadata": {},
   "source": [
    "# Data Processing"
   ]
  },
  {
   "cell_type": "code",
   "execution_count": 5,
   "id": "867ae91c",
   "metadata": {},
   "outputs": [
    {
     "name": "stdout",
     "output_type": "stream",
     "text": [
      "(800, 1)\n",
      "(800, 1)\n",
      "(200, 1)\n",
      "(200, 1)\n"
     ]
    }
   ],
   "source": [
    "random.seed(0)\n",
    "degreeCs = [[float(f'{random.randint(-100, 150)}.{random.randint(0,10)}')] for _ in range(1000)]\n",
    "degreeFs = [[round((i[0]*1.8)+32,2)] for i in degreeCs]\n",
    "#print(degreeCs)\n",
    "#print(degreeFs)\n",
    "min_max_scaler_X = MinMaxScaler()\n",
    "min_max_scaler_Y = MinMaxScaler()\n",
    "X_scale = min_max_scaler_X.fit_transform(degreeCs)\n",
    "Y_scale = min_max_scaler_Y.fit_transform(degreeFs)\n",
    "\n",
    "X_train, X_test, y_train, y_test = train_test_split(X_scale, Y_scale, test_size=0.2, random_state=0)\n",
    "#print(X_scale)\n",
    "print(X_train.shape)\n",
    "print(y_train.shape)\n",
    "print(y_test.shape)\n",
    "print(X_test.shape)\n"
   ]
  },
  {
   "cell_type": "markdown",
   "id": "9f98dee4",
   "metadata": {},
   "source": [
    "# Modeling"
   ]
  },
  {
   "cell_type": "code",
   "execution_count": 6,
   "id": "c30760c9",
   "metadata": {
    "scrolled": true
   },
   "outputs": [
    {
     "name": "stdout",
     "output_type": "stream",
     "text": [
      "Model: \"sequential\"\n",
      "_________________________________________________________________\n",
      " Layer (type)                Output Shape              Param #   \n",
      "=================================================================\n",
      " dense (Dense)               (None, 256)               512       \n",
      "                                                                 \n",
      " dense_1 (Dense)             (None, 100)               25700     \n",
      "                                                                 \n",
      " dense_2 (Dense)             (None, 50)                5050      \n",
      "                                                                 \n",
      " dense_3 (Dense)             (None, 10)                510       \n",
      "                                                                 \n",
      " dense_4 (Dense)             (None, 1)                 11        \n",
      "                                                                 \n",
      "=================================================================\n",
      "Total params: 31,783\n",
      "Trainable params: 31,783\n",
      "Non-trainable params: 0\n",
      "_________________________________________________________________\n",
      "None\n"
     ]
    },
    {
     "name": "stderr",
     "output_type": "stream",
     "text": [
      "2023-12-31 00:23:55.200192: I tensorflow/core/platform/cpu_feature_guard.cc:193] This TensorFlow binary is optimized with oneAPI Deep Neural Network Library (oneDNN) to use the following CPU instructions in performance-critical operations:  AVX2 FMA\n",
      "To enable them in other operations, rebuild TensorFlow with the appropriate compiler flags.\n"
     ]
    },
    {
     "name": "stdout",
     "output_type": "stream",
     "text": [
      "Epoch 1/100\n",
      "WARNING:tensorflow:AutoGraph could not transform <function Model.make_train_function.<locals>.train_function at 0x7fef43049680> and will run it as-is.\n",
      "Please report this to the TensorFlow team. When filing the bug, set the verbosity to 10 (on Linux, `export AUTOGRAPH_VERBOSITY=10`) and attach the full output.\n",
      "Cause: 'arguments' object has no attribute 'posonlyargs'\n",
      "To silence this warning, decorate the function with @tf.autograph.experimental.do_not_convert\n",
      "WARNING: AutoGraph could not transform <function Model.make_train_function.<locals>.train_function at 0x7fef43049680> and will run it as-is.\n",
      "Please report this to the TensorFlow team. When filing the bug, set the verbosity to 10 (on Linux, `export AUTOGRAPH_VERBOSITY=10`) and attach the full output.\n",
      "Cause: 'arguments' object has no attribute 'posonlyargs'\n",
      "To silence this warning, decorate the function with @tf.autograph.experimental.do_not_convert\n",
      "WARNING:tensorflow:AutoGraph could not transform <function Model.make_test_function.<locals>.test_function at 0x7fef434940e0> and will run it as-is.\n",
      "Please report this to the TensorFlow team. When filing the bug, set the verbosity to 10 (on Linux, `export AUTOGRAPH_VERBOSITY=10`) and attach the full output.\n",
      "Cause: 'arguments' object has no attribute 'posonlyargs'\n",
      "To silence this warning, decorate the function with @tf.autograph.experimental.do_not_convert\n",
      "WARNING: AutoGraph could not transform <function Model.make_test_function.<locals>.test_function at 0x7fef434940e0> and will run it as-is.\n",
      "Please report this to the TensorFlow team. When filing the bug, set the verbosity to 10 (on Linux, `export AUTOGRAPH_VERBOSITY=10`) and attach the full output.\n",
      "Cause: 'arguments' object has no attribute 'posonlyargs'\n",
      "To silence this warning, decorate the function with @tf.autograph.experimental.do_not_convert\n",
      "4/4 - 2s - loss: 0.2463 - accuracy: 0.0025 - val_loss: 0.2397 - val_accuracy: 0.0000e+00 - 2s/epoch - 376ms/step\n",
      "Epoch 2/100\n",
      "4/4 - 0s - loss: 0.2362 - accuracy: 0.0025 - val_loss: 0.2287 - val_accuracy: 0.0000e+00 - 57ms/epoch - 14ms/step\n",
      "Epoch 3/100\n",
      "4/4 - 0s - loss: 0.2253 - accuracy: 0.0025 - val_loss: 0.2148 - val_accuracy: 0.0000e+00 - 64ms/epoch - 16ms/step\n",
      "Epoch 4/100\n",
      "4/4 - 0s - loss: 0.2113 - accuracy: 0.0025 - val_loss: 0.1983 - val_accuracy: 0.0000e+00 - 64ms/epoch - 16ms/step\n",
      "Epoch 5/100\n",
      "4/4 - 0s - loss: 0.1949 - accuracy: 0.0025 - val_loss: 0.1798 - val_accuracy: 0.0000e+00 - 63ms/epoch - 16ms/step\n",
      "Epoch 6/100\n",
      "4/4 - 0s - loss: 0.1784 - accuracy: 0.0025 - val_loss: 0.1625 - val_accuracy: 0.0000e+00 - 54ms/epoch - 14ms/step\n",
      "Epoch 7/100\n",
      "4/4 - 0s - loss: 0.1617 - accuracy: 0.0025 - val_loss: 0.1489 - val_accuracy: 0.0000e+00 - 46ms/epoch - 11ms/step\n",
      "Epoch 8/100\n",
      "4/4 - 0s - loss: 0.1460 - accuracy: 0.0025 - val_loss: 0.1273 - val_accuracy: 0.0000e+00 - 46ms/epoch - 11ms/step\n",
      "Epoch 9/100\n",
      "4/4 - 0s - loss: 0.1230 - accuracy: 0.0025 - val_loss: 0.1036 - val_accuracy: 0.0000e+00 - 71ms/epoch - 18ms/step\n",
      "Epoch 10/100\n",
      "4/4 - 0s - loss: 0.0998 - accuracy: 0.0025 - val_loss: 0.0824 - val_accuracy: 0.0000e+00 - 76ms/epoch - 19ms/step\n",
      "Epoch 11/100\n",
      "4/4 - 0s - loss: 0.0773 - accuracy: 0.0025 - val_loss: 0.0683 - val_accuracy: 0.0000e+00 - 82ms/epoch - 20ms/step\n",
      "Epoch 12/100\n",
      "4/4 - 0s - loss: 0.0665 - accuracy: 0.0025 - val_loss: 0.0611 - val_accuracy: 0.0000e+00 - 72ms/epoch - 18ms/step\n",
      "Epoch 13/100\n",
      "4/4 - 0s - loss: 0.0638 - accuracy: 0.0025 - val_loss: 0.0629 - val_accuracy: 0.0000e+00 - 54ms/epoch - 13ms/step\n",
      "Epoch 14/100\n",
      "4/4 - 0s - loss: 0.0607 - accuracy: 0.0025 - val_loss: 0.0535 - val_accuracy: 0.0000e+00 - 53ms/epoch - 13ms/step\n",
      "Epoch 15/100\n",
      "4/4 - 0s - loss: 0.0539 - accuracy: 0.0025 - val_loss: 0.0503 - val_accuracy: 0.0000e+00 - 65ms/epoch - 16ms/step\n",
      "Epoch 16/100\n",
      "4/4 - 0s - loss: 0.0508 - accuracy: 0.0025 - val_loss: 0.0471 - val_accuracy: 0.0000e+00 - 58ms/epoch - 15ms/step\n",
      "Epoch 17/100\n",
      "4/4 - 0s - loss: 0.0474 - accuracy: 0.0025 - val_loss: 0.0483 - val_accuracy: 0.0000e+00 - 56ms/epoch - 14ms/step\n",
      "Epoch 18/100\n",
      "4/4 - 0s - loss: 0.0450 - accuracy: 0.0025 - val_loss: 0.0398 - val_accuracy: 0.0000e+00 - 81ms/epoch - 20ms/step\n",
      "Epoch 19/100\n",
      "4/4 - 0s - loss: 0.0411 - accuracy: 0.0025 - val_loss: 0.0367 - val_accuracy: 0.0000e+00 - 62ms/epoch - 15ms/step\n",
      "Epoch 20/100\n",
      "4/4 - 0s - loss: 0.0386 - accuracy: 0.0025 - val_loss: 0.0383 - val_accuracy: 0.0000e+00 - 48ms/epoch - 12ms/step\n",
      "Epoch 21/100\n",
      "4/4 - 0s - loss: 0.0383 - accuracy: 0.0025 - val_loss: 0.0355 - val_accuracy: 0.0000e+00 - 47ms/epoch - 12ms/step\n",
      "Epoch 22/100\n",
      "4/4 - 0s - loss: 0.0352 - accuracy: 0.0025 - val_loss: 0.0327 - val_accuracy: 0.0000e+00 - 47ms/epoch - 12ms/step\n",
      "Epoch 23/100\n",
      "4/4 - 0s - loss: 0.0328 - accuracy: 0.0025 - val_loss: 0.0306 - val_accuracy: 0.0000e+00 - 56ms/epoch - 14ms/step\n",
      "Epoch 24/100\n",
      "4/4 - 0s - loss: 0.0315 - accuracy: 0.0025 - val_loss: 0.0296 - val_accuracy: 0.0000e+00 - 54ms/epoch - 14ms/step\n",
      "Epoch 25/100\n",
      "4/4 - 0s - loss: 0.0300 - accuracy: 0.0025 - val_loss: 0.0281 - val_accuracy: 0.0000e+00 - 65ms/epoch - 16ms/step\n",
      "Epoch 26/100\n",
      "4/4 - 0s - loss: 0.0283 - accuracy: 0.0025 - val_loss: 0.0284 - val_accuracy: 0.0000e+00 - 75ms/epoch - 19ms/step\n",
      "Epoch 27/100\n",
      "4/4 - 0s - loss: 0.0283 - accuracy: 0.0025 - val_loss: 0.0259 - val_accuracy: 0.0000e+00 - 83ms/epoch - 21ms/step\n",
      "Epoch 28/100\n",
      "4/4 - 0s - loss: 0.0267 - accuracy: 0.0025 - val_loss: 0.0253 - val_accuracy: 0.0000e+00 - 81ms/epoch - 20ms/step\n",
      "Epoch 29/100\n",
      "4/4 - 0s - loss: 0.0259 - accuracy: 0.0025 - val_loss: 0.0245 - val_accuracy: 0.0000e+00 - 59ms/epoch - 15ms/step\n",
      "Epoch 30/100\n",
      "4/4 - 0s - loss: 0.0248 - accuracy: 0.0025 - val_loss: 0.0234 - val_accuracy: 0.0000e+00 - 58ms/epoch - 15ms/step\n",
      "Epoch 31/100\n",
      "4/4 - 0s - loss: 0.0238 - accuracy: 0.0025 - val_loss: 0.0248 - val_accuracy: 0.0000e+00 - 59ms/epoch - 15ms/step\n",
      "Epoch 32/100\n",
      "4/4 - 0s - loss: 0.0251 - accuracy: 0.0025 - val_loss: 0.0265 - val_accuracy: 0.0000e+00 - 68ms/epoch - 17ms/step\n",
      "Epoch 33/100\n",
      "4/4 - 0s - loss: 0.0243 - accuracy: 0.0025 - val_loss: 0.0232 - val_accuracy: 0.0000e+00 - 77ms/epoch - 19ms/step\n",
      "Epoch 34/100\n",
      "4/4 - 0s - loss: 0.0242 - accuracy: 0.0025 - val_loss: 0.0257 - val_accuracy: 0.0000e+00 - 78ms/epoch - 19ms/step\n",
      "Epoch 35/100\n",
      "4/4 - 0s - loss: 0.0245 - accuracy: 0.0025 - val_loss: 0.0220 - val_accuracy: 0.0000e+00 - 59ms/epoch - 15ms/step\n",
      "Epoch 36/100\n",
      "4/4 - 0s - loss: 0.0232 - accuracy: 0.0025 - val_loss: 0.0230 - val_accuracy: 0.0000e+00 - 52ms/epoch - 13ms/step\n",
      "Epoch 37/100\n",
      "4/4 - 0s - loss: 0.0235 - accuracy: 0.0025 - val_loss: 0.0271 - val_accuracy: 0.0000e+00 - 113ms/epoch - 28ms/step\n",
      "Epoch 38/100\n",
      "4/4 - 0s - loss: 0.0244 - accuracy: 0.0025 - val_loss: 0.0217 - val_accuracy: 0.0000e+00 - 85ms/epoch - 21ms/step\n",
      "Epoch 39/100\n",
      "4/4 - 0s - loss: 0.0233 - accuracy: 0.0025 - val_loss: 0.0243 - val_accuracy: 0.0000e+00 - 68ms/epoch - 17ms/step\n",
      "Epoch 40/100\n",
      "4/4 - 0s - loss: 0.0247 - accuracy: 0.0025 - val_loss: 0.0213 - val_accuracy: 0.0000e+00 - 78ms/epoch - 19ms/step\n",
      "Epoch 41/100\n",
      "4/4 - 0s - loss: 0.0238 - accuracy: 0.0025 - val_loss: 0.0232 - val_accuracy: 0.0000e+00 - 61ms/epoch - 15ms/step\n",
      "Epoch 42/100\n",
      "4/4 - 0s - loss: 0.0240 - accuracy: 0.0025 - val_loss: 0.0273 - val_accuracy: 0.0000e+00 - 67ms/epoch - 17ms/step\n",
      "Epoch 43/100\n",
      "4/4 - 0s - loss: 0.0277 - accuracy: 0.0025 - val_loss: 0.0326 - val_accuracy: 0.0000e+00 - 78ms/epoch - 19ms/step\n",
      "Epoch 44/100\n",
      "4/4 - 0s - loss: 0.0278 - accuracy: 0.0025 - val_loss: 0.0298 - val_accuracy: 0.0000e+00 - 71ms/epoch - 18ms/step\n",
      "Epoch 45/100\n",
      "4/4 - 0s - loss: 0.0265 - accuracy: 0.0025 - val_loss: 0.0226 - val_accuracy: 0.0000e+00 - 70ms/epoch - 18ms/step\n",
      "Epoch 46/100\n",
      "4/4 - 0s - loss: 0.0262 - accuracy: 0.0025 - val_loss: 0.0220 - val_accuracy: 0.0000e+00 - 68ms/epoch - 17ms/step\n",
      "Epoch 47/100\n",
      "4/4 - 0s - loss: 0.0269 - accuracy: 0.0025 - val_loss: 0.0305 - val_accuracy: 0.0000e+00 - 62ms/epoch - 15ms/step\n",
      "Epoch 48/100\n",
      "4/4 - 0s - loss: 0.0283 - accuracy: 0.0025 - val_loss: 0.0298 - val_accuracy: 0.0000e+00 - 53ms/epoch - 13ms/step\n",
      "Epoch 49/100\n",
      "4/4 - 0s - loss: 0.0273 - accuracy: 0.0025 - val_loss: 0.0277 - val_accuracy: 0.0000e+00 - 60ms/epoch - 15ms/step\n",
      "Epoch 50/100\n",
      "4/4 - 0s - loss: 0.0248 - accuracy: 0.0025 - val_loss: 0.0211 - val_accuracy: 0.0000e+00 - 66ms/epoch - 16ms/step\n",
      "Epoch 51/100\n",
      "4/4 - 0s - loss: 0.0226 - accuracy: 0.0025 - val_loss: 0.0208 - val_accuracy: 0.0000e+00 - 72ms/epoch - 18ms/step\n"
     ]
    },
    {
     "name": "stdout",
     "output_type": "stream",
     "text": [
      "Epoch 52/100\n",
      "4/4 - 0s - loss: 0.0220 - accuracy: 0.0025 - val_loss: 0.0206 - val_accuracy: 0.0000e+00 - 94ms/epoch - 24ms/step\n",
      "Epoch 53/100\n",
      "4/4 - 0s - loss: 0.0211 - accuracy: 0.0025 - val_loss: 0.0203 - val_accuracy: 0.0000e+00 - 67ms/epoch - 17ms/step\n",
      "Epoch 54/100\n",
      "4/4 - 0s - loss: 0.0210 - accuracy: 0.0025 - val_loss: 0.0203 - val_accuracy: 0.0000e+00 - 70ms/epoch - 17ms/step\n",
      "Epoch 55/100\n",
      "4/4 - 0s - loss: 0.0209 - accuracy: 0.0025 - val_loss: 0.0225 - val_accuracy: 0.0000e+00 - 81ms/epoch - 20ms/step\n",
      "Epoch 56/100\n",
      "4/4 - 0s - loss: 0.0221 - accuracy: 0.0025 - val_loss: 0.0201 - val_accuracy: 0.0000e+00 - 115ms/epoch - 29ms/step\n",
      "Epoch 57/100\n",
      "4/4 - 0s - loss: 0.0219 - accuracy: 0.0025 - val_loss: 0.0229 - val_accuracy: 0.0000e+00 - 104ms/epoch - 26ms/step\n",
      "Epoch 58/100\n",
      "4/4 - 0s - loss: 0.0235 - accuracy: 0.0025 - val_loss: 0.0211 - val_accuracy: 0.0000e+00 - 58ms/epoch - 14ms/step\n",
      "Epoch 59/100\n",
      "4/4 - 0s - loss: 0.0221 - accuracy: 0.0025 - val_loss: 0.0240 - val_accuracy: 0.0000e+00 - 55ms/epoch - 14ms/step\n",
      "Epoch 60/100\n",
      "4/4 - 0s - loss: 0.0220 - accuracy: 0.0025 - val_loss: 0.0212 - val_accuracy: 0.0000e+00 - 94ms/epoch - 23ms/step\n",
      "Epoch 61/100\n",
      "4/4 - 0s - loss: 0.0212 - accuracy: 0.0025 - val_loss: 0.0197 - val_accuracy: 0.0000e+00 - 91ms/epoch - 23ms/step\n",
      "Epoch 62/100\n",
      "4/4 - 0s - loss: 0.0204 - accuracy: 0.0025 - val_loss: 0.0195 - val_accuracy: 0.0000e+00 - 113ms/epoch - 28ms/step\n",
      "Epoch 63/100\n",
      "4/4 - 0s - loss: 0.0203 - accuracy: 0.0025 - val_loss: 0.0198 - val_accuracy: 0.0000e+00 - 81ms/epoch - 20ms/step\n",
      "Epoch 64/100\n",
      "4/4 - 0s - loss: 0.0201 - accuracy: 0.0025 - val_loss: 0.0192 - val_accuracy: 0.0000e+00 - 72ms/epoch - 18ms/step\n",
      "Epoch 65/100\n",
      "4/4 - 0s - loss: 0.0203 - accuracy: 0.0025 - val_loss: 0.0191 - val_accuracy: 0.0000e+00 - 61ms/epoch - 15ms/step\n",
      "Epoch 66/100\n",
      "4/4 - 0s - loss: 0.0198 - accuracy: 0.0025 - val_loss: 0.0191 - val_accuracy: 0.0000e+00 - 66ms/epoch - 16ms/step\n",
      "Epoch 67/100\n",
      "4/4 - 0s - loss: 0.0197 - accuracy: 0.0025 - val_loss: 0.0195 - val_accuracy: 0.0000e+00 - 61ms/epoch - 15ms/step\n",
      "Epoch 68/100\n",
      "4/4 - 0s - loss: 0.0200 - accuracy: 0.0025 - val_loss: 0.0193 - val_accuracy: 0.0000e+00 - 70ms/epoch - 18ms/step\n",
      "Epoch 69/100\n",
      "4/4 - 0s - loss: 0.0202 - accuracy: 0.0025 - val_loss: 0.0190 - val_accuracy: 0.0000e+00 - 81ms/epoch - 20ms/step\n",
      "Epoch 70/100\n",
      "4/4 - 0s - loss: 0.0195 - accuracy: 0.0025 - val_loss: 0.0195 - val_accuracy: 0.0000e+00 - 60ms/epoch - 15ms/step\n",
      "Epoch 71/100\n",
      "4/4 - 0s - loss: 0.0208 - accuracy: 0.0025 - val_loss: 0.0237 - val_accuracy: 0.0000e+00 - 61ms/epoch - 15ms/step\n",
      "Epoch 72/100\n",
      "4/4 - 0s - loss: 0.0213 - accuracy: 0.0025 - val_loss: 0.0213 - val_accuracy: 0.0000e+00 - 66ms/epoch - 17ms/step\n",
      "Epoch 73/100\n",
      "4/4 - 0s - loss: 0.0204 - accuracy: 0.0025 - val_loss: 0.0192 - val_accuracy: 0.0000e+00 - 67ms/epoch - 17ms/step\n",
      "Epoch 74/100\n",
      "4/4 - 0s - loss: 0.0195 - accuracy: 0.0025 - val_loss: 0.0192 - val_accuracy: 0.0000e+00 - 83ms/epoch - 21ms/step\n",
      "Epoch 75/100\n",
      "4/4 - 0s - loss: 0.0195 - accuracy: 0.0025 - val_loss: 0.0185 - val_accuracy: 0.0000e+00 - 64ms/epoch - 16ms/step\n",
      "Epoch 76/100\n",
      "4/4 - 0s - loss: 0.0194 - accuracy: 0.0025 - val_loss: 0.0231 - val_accuracy: 0.0000e+00 - 64ms/epoch - 16ms/step\n",
      "Epoch 77/100\n",
      "4/4 - 0s - loss: 0.0210 - accuracy: 0.0025 - val_loss: 0.0197 - val_accuracy: 0.0000e+00 - 61ms/epoch - 15ms/step\n",
      "Epoch 78/100\n",
      "4/4 - 0s - loss: 0.0206 - accuracy: 0.0025 - val_loss: 0.0233 - val_accuracy: 0.0000e+00 - 65ms/epoch - 16ms/step\n",
      "Epoch 79/100\n",
      "4/4 - 0s - loss: 0.0215 - accuracy: 0.0025 - val_loss: 0.0197 - val_accuracy: 0.0000e+00 - 56ms/epoch - 14ms/step\n",
      "Epoch 80/100\n",
      "4/4 - 0s - loss: 0.0243 - accuracy: 0.0025 - val_loss: 0.0194 - val_accuracy: 0.0000e+00 - 61ms/epoch - 15ms/step\n",
      "Epoch 81/100\n",
      "4/4 - 0s - loss: 0.0216 - accuracy: 0.0025 - val_loss: 0.0226 - val_accuracy: 0.0000e+00 - 68ms/epoch - 17ms/step\n",
      "Epoch 82/100\n",
      "4/4 - 0s - loss: 0.0213 - accuracy: 0.0025 - val_loss: 0.0196 - val_accuracy: 0.0000e+00 - 68ms/epoch - 17ms/step\n",
      "Epoch 83/100\n",
      "4/4 - 0s - loss: 0.0223 - accuracy: 0.0025 - val_loss: 0.0229 - val_accuracy: 0.0000e+00 - 58ms/epoch - 14ms/step\n",
      "Epoch 84/100\n",
      "4/4 - 0s - loss: 0.0224 - accuracy: 0.0025 - val_loss: 0.0225 - val_accuracy: 0.0000e+00 - 71ms/epoch - 18ms/step\n",
      "Epoch 85/100\n",
      "4/4 - 0s - loss: 0.0233 - accuracy: 0.0025 - val_loss: 0.0208 - val_accuracy: 0.0000e+00 - 43ms/epoch - 11ms/step\n",
      "Epoch 86/100\n",
      "4/4 - 0s - loss: 0.0236 - accuracy: 0.0025 - val_loss: 0.0186 - val_accuracy: 0.0000e+00 - 48ms/epoch - 12ms/step\n",
      "Epoch 87/100\n",
      "4/4 - 0s - loss: 0.0201 - accuracy: 0.0025 - val_loss: 0.0217 - val_accuracy: 0.0000e+00 - 46ms/epoch - 12ms/step\n",
      "Epoch 88/100\n",
      "4/4 - 0s - loss: 0.0202 - accuracy: 0.0025 - val_loss: 0.0184 - val_accuracy: 0.0000e+00 - 47ms/epoch - 12ms/step\n",
      "Epoch 89/100\n",
      "4/4 - 0s - loss: 0.0198 - accuracy: 0.0025 - val_loss: 0.0225 - val_accuracy: 0.0000e+00 - 44ms/epoch - 11ms/step\n",
      "Epoch 90/100\n",
      "4/4 - 0s - loss: 0.0207 - accuracy: 0.0025 - val_loss: 0.0207 - val_accuracy: 0.0000e+00 - 45ms/epoch - 11ms/step\n",
      "Epoch 91/100\n",
      "4/4 - 0s - loss: 0.0214 - accuracy: 0.0025 - val_loss: 0.0201 - val_accuracy: 0.0000e+00 - 46ms/epoch - 11ms/step\n",
      "Epoch 92/100\n",
      "4/4 - 0s - loss: 0.0201 - accuracy: 0.0025 - val_loss: 0.0219 - val_accuracy: 0.0000e+00 - 45ms/epoch - 11ms/step\n",
      "Epoch 93/100\n",
      "4/4 - 0s - loss: 0.0200 - accuracy: 0.0025 - val_loss: 0.0185 - val_accuracy: 0.0000e+00 - 47ms/epoch - 12ms/step\n",
      "Epoch 94/100\n",
      "4/4 - 0s - loss: 0.0190 - accuracy: 0.0025 - val_loss: 0.0199 - val_accuracy: 0.0000e+00 - 45ms/epoch - 11ms/step\n",
      "Epoch 95/100\n",
      "4/4 - 0s - loss: 0.0192 - accuracy: 0.0025 - val_loss: 0.0174 - val_accuracy: 0.0000e+00 - 47ms/epoch - 12ms/step\n",
      "Epoch 96/100\n",
      "4/4 - 0s - loss: 0.0185 - accuracy: 0.0025 - val_loss: 0.0174 - val_accuracy: 0.0000e+00 - 46ms/epoch - 11ms/step\n",
      "Epoch 97/100\n",
      "4/4 - 0s - loss: 0.0179 - accuracy: 0.0025 - val_loss: 0.0182 - val_accuracy: 0.0000e+00 - 46ms/epoch - 11ms/step\n",
      "Epoch 98/100\n",
      "4/4 - 0s - loss: 0.0186 - accuracy: 0.0025 - val_loss: 0.0203 - val_accuracy: 0.0000e+00 - 46ms/epoch - 12ms/step\n",
      "Epoch 99/100\n",
      "4/4 - 0s - loss: 0.0191 - accuracy: 0.0025 - val_loss: 0.0170 - val_accuracy: 0.0000e+00 - 46ms/epoch - 12ms/step\n",
      "Epoch 100/100\n",
      "4/4 - 0s - loss: 0.0183 - accuracy: 0.0025 - val_loss: 0.0169 - val_accuracy: 0.0000e+00 - 47ms/epoch - 12ms/step\n"
     ]
    },
    {
     "data": {
      "text/plain": [
       "<keras.callbacks.History at 0x7fef4232ded0>"
      ]
     },
     "execution_count": 6,
     "metadata": {},
     "output_type": "execute_result"
    }
   ],
   "source": [
    "model = Sequential()\n",
    "\n",
    "model.add(Dense(256, input_dim=1, activation='relu'))# Hidden layer\n",
    "model.add(Dense(100, input_dim=1, activation='relu'))# Hidden layer\n",
    "model.add(Dense(50, input_dim=1, activation='relu'))# Hidden layer\n",
    "model.add(Dense(10, input_dim=1, activation='relu'))# Hidden layer\n",
    "model.add(Dense(1, activation='sigmoid'))# Output layer\n",
    "\n",
    "print(model.summary())\n",
    "model.compile(loss='MeanAbsoluteError', optimizer=\"adam\", metrics=['accuracy'])\n",
    "model.fit(X_train, y_train, validation_data=(X_test, y_test), epochs = 100, batch_size = 256, verbose =2)\n",
    "\n"
   ]
  },
  {
   "cell_type": "markdown",
   "id": "bcbcacb6",
   "metadata": {},
   "source": [
    "# Testing"
   ]
  },
  {
   "cell_type": "code",
   "execution_count": 7,
   "id": "2658822b",
   "metadata": {},
   "outputs": [
    {
     "name": "stdout",
     "output_type": "stream",
     "text": [
      "WARNING:tensorflow:AutoGraph could not transform <function Model.make_predict_function.<locals>.predict_function at 0x7fef43a4ecb0> and will run it as-is.\n",
      "Please report this to the TensorFlow team. When filing the bug, set the verbosity to 10 (on Linux, `export AUTOGRAPH_VERBOSITY=10`) and attach the full output.\n",
      "Cause: 'arguments' object has no attribute 'posonlyargs'\n",
      "To silence this warning, decorate the function with @tf.autograph.experimental.do_not_convert\n",
      "WARNING: AutoGraph could not transform <function Model.make_predict_function.<locals>.predict_function at 0x7fef43a4ecb0> and will run it as-is.\n",
      "Please report this to the TensorFlow team. When filing the bug, set the verbosity to 10 (on Linux, `export AUTOGRAPH_VERBOSITY=10`) and attach the full output.\n",
      "Cause: 'arguments' object has no attribute 'posonlyargs'\n",
      "To silence this warning, decorate the function with @tf.autograph.experimental.do_not_convert\n",
      "7/7 [==============================] - 0s 2ms/step\n",
      "MSE: 0.001\n"
     ]
    }
   ],
   "source": [
    "y_test_pred = model.predict(X_test)\n",
    "mse = mean_squared_error(y_test, y_test_pred)\n",
    "print('MSE: %.3f' % (mse))\n",
    "y_test_pred = min_max_scaler_Y.inverse_transform(y_test_pred)\n",
    "X_test = min_max_scaler_X.inverse_transform(X_test).tolist()\n",
    "y_test_pred = y_test_pred.tolist()\n",
    "result = [[X_test[i][0], y_test_pred[i][0]] for i in range(len(X_test))]"
   ]
  },
  {
   "cell_type": "markdown",
   "id": "dc6e7e62",
   "metadata": {},
   "source": [
    "# Prediction"
   ]
  },
  {
   "cell_type": "code",
   "execution_count": 8,
   "id": "ce145a78",
   "metadata": {},
   "outputs": [
    {
     "name": "stdout",
     "output_type": "stream",
     "text": [
      "[111 110  50 121  63  25]\n",
      "1/1 [==============================] - 0s 28ms/step\n",
      "[[234.26233 ]\n",
      " [232.7249  ]\n",
      " [122.978615]\n",
      " [248.16118 ]\n",
      " [147.05562 ]\n",
      " [ 74.00773 ]]\n"
     ]
    }
   ],
   "source": [
    "data1= np.array(np.random.randint(0, 150,6))\n",
    "print(data1)\n",
    "n_testData = min_max_scaler_X.transform(data1.reshape(len(data1), 1))\n",
    "pre = model.predict(n_testData)\n",
    "pre = np.array([[i] for i in pre])\n",
    "pre = pre.reshape(len(pre), 1)\n",
    "preList = min_max_scaler_Y.inverse_transform(pre)\n",
    "print(preList)"
   ]
  },
  {
   "cell_type": "code",
   "execution_count": 9,
   "id": "9902c009",
   "metadata": {},
   "outputs": [
    {
     "name": "stdout",
     "output_type": "stream",
     "text": [
      "[ 47 100 140  86  21 127]\n",
      "1/1 [==============================] - 0s 27ms/step\n",
      "[[117.24036]\n",
      " [215.78967]\n",
      " [267.99832]\n",
      " [187.2029 ]\n",
      " [ 66.07762]\n",
      " [255.28981]]\n"
     ]
    }
   ],
   "source": [
    "data2= np.array(np.random.randint(0, 150,6))\n",
    "print(data2)\n",
    "n_testData = min_max_scaler_X.transform(data2.reshape(len(data2), 1))\n",
    "pre = model.predict(n_testData)\n",
    "pre = np.array([[i] for i in pre])\n",
    "pre = pre.reshape(len(pre), 1)\n",
    "preList = min_max_scaler_Y.inverse_transform(pre)\n",
    "print(preList)"
   ]
  },
  {
   "cell_type": "code",
   "execution_count": 10,
   "id": "5cb6b759",
   "metadata": {},
   "outputs": [
    {
     "name": "stdout",
     "output_type": "stream",
     "text": [
      "[111 110  50 121  63  25]\n",
      "1/1 [==============================] - 0s 23ms/step\n",
      "[[101.69515]\n",
      " [ 87.89199]\n",
      " [ 72.02375]\n",
      " [150.62532]\n",
      " [244.26561]\n",
      " [274.19824]]\n"
     ]
    }
   ],
   "source": [
    "data3= np.array(np.random.randint(0, 150,6))\n",
    "print(data1)\n",
    "n_testData = min_max_scaler_X.transform(data3.reshape(len(data3), 1))\n",
    "pre = model.predict(n_testData)\n",
    "pre = np.array([[i] for i in pre])\n",
    "pre = pre.reshape(len(pre), 1)\n",
    "preList = min_max_scaler_Y.inverse_transform(pre)\n",
    "print(preList)"
   ]
  },
  {
   "cell_type": "code",
   "execution_count": 11,
   "id": "b97cb532",
   "metadata": {},
   "outputs": [
    {
     "name": "stdout",
     "output_type": "stream",
     "text": [
      "[10 20 30 40 50 60 70]\n",
      "1/1 [==============================] - 0s 23ms/step\n",
      "[[ 44.46657 ]\n",
      " [ 64.09848 ]\n",
      " [ 83.92878 ]\n",
      " [103.65445 ]\n",
      " [122.978615]\n",
      " [141.62842 ]\n",
      " [159.36934 ]]\n"
     ]
    }
   ],
   "source": [
    "data = np.array([10,20,30,40,50,60,70])\n",
    "print(data)\n",
    "n_testData = min_max_scaler_X.transform(data.reshape(len(data), 1))\n",
    "pre = model.predict(n_testData)\n",
    "pre = np.array([[i] for i in pre])\n",
    "pre = pre.reshape(len(pre), 1)\n",
    "preList = min_max_scaler_Y.inverse_transform(pre)\n",
    "print(preList)\n"
   ]
  }
 ],
 "metadata": {
  "kernelspec": {
   "display_name": "Python 3 (ipykernel)",
   "language": "python",
   "name": "python3"
  },
  "language_info": {
   "codemirror_mode": {
    "name": "ipython",
    "version": 3
   },
   "file_extension": ".py",
   "mimetype": "text/x-python",
   "name": "python",
   "nbconvert_exporter": "python",
   "pygments_lexer": "ipython3",
   "version": "3.7.16"
  }
 },
 "nbformat": 4,
 "nbformat_minor": 5
}
